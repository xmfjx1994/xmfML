{
  "nbformat": 4,
  "nbformat_minor": 0,
  "metadata": {
    "colab": {
      "name": "polution.ipynb",
      "provenance": [],
      "collapsed_sections": []
    },
    "kernelspec": {
      "name": "python3",
      "display_name": "Python 3"
    }
  },
  "cells": [
    {
      "cell_type": "code",
      "metadata": {
        "id": "dQKzghTSgTeE",
        "colab_type": "code",
        "colab": {}
      },
      "source": [
        "# 0 Data Precrocessing\n",
        "#   1）Load Data\n",
        "import pandas as pd\n",
        "import numpy as np\n",
        "pollution = pd.read_csv(\"C:/Users/tianm/Desktop/Sem3/Machine Learning/pollution_us_2000_2016.csv\")"
      ],
      "execution_count": 0,
      "outputs": []
    },
    {
      "cell_type": "code",
      "metadata": {
        "id": "prbRwKCBggLW",
        "colab_type": "code",
        "colab": {}
      },
      "source": [
        "#   2）View Column Names\n",
        "pollution.columns.values.tolist()"
      ],
      "execution_count": 0,
      "outputs": []
    },
    {
      "cell_type": "code",
      "metadata": {
        "id": "GJSQTdo8gjU0",
        "colab_type": "code",
        "colab": {}
      },
      "source": [
        "#   3）Remove Data\n",
        "x = np.arange(0,5) \n",
        "x = np.append(x, np.arange(9,25,5)) \n",
        "x = np.append(x, np.arange(13,29,5))  # AQI\n",
        "pollution.drop(pollution.columns[x],axis=1,inplace=True)"
      ],
      "execution_count": 0,
      "outputs": []
    },
    {
      "cell_type": "code",
      "metadata": {
        "id": "hexjiN9xgkuS",
        "colab_type": "code",
        "colab": {}
      },
      "source": [
        "#   4）View Column Names\n",
        "pollution.columns.values.tolist()"
      ],
      "execution_count": 0,
      "outputs": []
    },
    {
      "cell_type": "code",
      "metadata": {
        "id": "lDTKRE5jgl_0",
        "colab_type": "code",
        "colab": {}
      },
      "source": [
        "#   5）Null Data\n",
        "pollution.isnull().any()"
      ],
      "execution_count": 0,
      "outputs": []
    },
    {
      "cell_type": "code",
      "metadata": {
        "id": "foGy2NnugoOl",
        "colab_type": "code",
        "colab": {}
      },
      "source": [
        "# 1 Visualizing Data\n",
        "import seaborn as sns\n",
        "import matplotlib.pyplot as plt\n",
        "from collections import Counter\n",
        "\n",
        "plt.rcParams['axes.unicode_minus']=False  # negative sign display"
      ],
      "execution_count": 0,
      "outputs": []
    },
    {
      "cell_type": "code",
      "metadata": {
        "id": "fDel2L8Lgq-W",
        "colab_type": "code",
        "colab": {}
      },
      "source": [
        "#   1）Fig1：number of cities in each state\n",
        "#      \n",
        "city = pollution.iloc[:,[0,2]];\n",
        "city = city.drop_duplicates(subset=['City'],keep='first')\n",
        "a = Counter(city['State'])\n",
        "a = pd.DataFrame.from_dict(a,orient='index').reset_index()\n",
        "a = a.rename(columns={'index':'State',0:'count'})\n",
        "#       Dispalying the plot\n",
        "plt.rcParams['figure.figsize'] = (12.0, 8.0)\n",
        "ax = sns.barplot(x = 'State', y = 'count', data = a, palette=\"Blues_d\")\n",
        "ax.tick_params(axis = 'x',labelsize = 13) \n",
        "ax.tick_params(axis = 'y',labelsize = 16)\n",
        "ax.set_xticklabels(ax.get_xticklabels(), rotation=-90)\n",
        "plt.xlabel('State', fontsize = 20)\n",
        "plt.ylabel('Number of Cities', fontsize = 20)\n",
        "plt.tight_layout()\n",
        "\n"
      ],
      "execution_count": 0,
      "outputs": []
    },
    {
      "cell_type": "code",
      "metadata": {
        "id": "ezC1vBUiguXX",
        "colab_type": "code",
        "colab": {}
      },
      "source": [
        "#   2）Fig2：Pollution situation of N02 in each state\n",
        "plt.rcParams['figure.figsize'] = (12.0, 10.0)\n",
        "#       SubFig1：NO2 Mean Box Plot\n",
        "plt.subplot(311)\n",
        "ax1 = sns.boxplot(x = \"State\", y = \"NO2 Mean\", data = pollution, palette = \"Blues_d\")\n",
        "ax1.tick_params(axis = 'x',labelsize = 16) \n",
        "ax1.tick_params(axis = 'y',labelsize = 16)\n",
        "plt.xlabel('')\n",
        "plt.ylabel('')\n",
        "plt.title('NO2 Mean', fontsize = 20)\n",
        "plt.setp(ax1.get_xticklabels(), visible=False)\n",
        "#       SubFig2：NO2 1st Max Value Box Plot\n",
        "plt.subplot(312)\n",
        "ax2 = sns.boxplot(x = \"State\", y = \"NO2 1st Max Value\", data = pollution, palette = \"Blues_d\")\n",
        "ax2.tick_params(axis = 'x',labelsize = 16) \n",
        "ax2.tick_params(axis = 'y',labelsize = 16)\n",
        "plt.xlabel('')\n",
        "plt.ylabel('')\n",
        "plt.title('NO2 1st Max Value', fontsize = 20)\n",
        "plt.setp(ax2.get_xticklabels(), visible=False)\n",
        "#       SubFig3：NO2 1st Max Hour Box Plot\n",
        "plt.subplot(313)\n",
        "ax3 = sns.boxplot(x = \"State\", y = \"NO2 1st Max Hour\", data = pollution, palette = \"Blues_d\")\n",
        "ax3.tick_params(axis = 'x',labelsize = 16) \n",
        "ax3.tick_params(axis = 'y',labelsize = 16)\n",
        "ax3.set_xticklabels(ax3.get_xticklabels(), rotation=-90)\n",
        "plt.xlabel('States', fontsize = 20)\n",
        "plt.ylabel('')\n",
        "plt.title('NO2 1st Max Hour', fontsize = 20)\n",
        "plt.tight_layout()"
      ],
      "execution_count": 0,
      "outputs": []
    },
    {
      "cell_type": "code",
      "metadata": {
        "id": "WPmB7tsRgxwB",
        "colab_type": "code",
        "colab": {}
      },
      "source": [
        "#   3）Fig3：Pollution situation of O3 in each state\n",
        "plt.rcParams['figure.figsize'] = (12.0, 10.0)\n",
        "#       SubFig1：O3 Mean Box Plot\n",
        "plt.subplot(311)\n",
        "ax1 = sns.boxplot(x = \"State\", y = \"O3 Mean\", data = pollution, palette = \"Blues_d\")\n",
        "ax1.tick_params(axis = 'x',labelsize = 16) \n",
        "ax1.tick_params(axis = 'y',labelsize = 16)\n",
        "plt.xlabel('')\n",
        "plt.ylabel('')\n",
        "plt.title('O3 Mean', fontsize = 20)\n",
        "plt.setp(ax1.get_xticklabels(), visible=False)\n",
        "#       SubFig2：O3 1st Max Value Box Plot\n",
        "plt.subplot(312)\n",
        "ax2 = sns.boxplot(x = \"State\", y = \"O3 1st Max Value\", data = pollution, palette = \"Blues_d\")\n",
        "ax2.tick_params(axis = 'x',labelsize = 16) \n",
        "ax2.tick_params(axis = 'y',labelsize = 16)\n",
        "plt.xlabel('')\n",
        "plt.ylabel('')\n",
        "plt.title('O3 1st Max Value', fontsize = 20)\n",
        "plt.setp(ax2.get_xticklabels(), visible=False)\n",
        "#       SubFig3：O3 1st Max Hour Box Plot\n",
        "plt.subplot(313)\n",
        "ax3 = sns.boxplot(x = \"State\", y = \"O3 1st Max Hour\", data = pollution, palette = \"Blues_d\")\n",
        "ax3.tick_params(axis = 'x',labelsize = 16) \n",
        "ax3.tick_params(axis = 'y',labelsize = 16)\n",
        "ax3.set_xticklabels(ax3.get_xticklabels(), rotation=-90)\n",
        "plt.xlabel('States', fontsize = 20)\n",
        "plt.ylabel('')\n",
        "plt.title('O3 1st Max Hour', fontsize = 20)\n",
        "plt.tight_layout()\n",
        "\n"
      ],
      "execution_count": 0,
      "outputs": []
    },
    {
      "cell_type": "code",
      "metadata": {
        "id": "UPo7wqKDgzq_",
        "colab_type": "code",
        "colab": {}
      },
      "source": [
        "#   4）Fig4：Pollution situation of SO2 in each state\n",
        "plt.rcParams['figure.figsize'] = (12.0, 10.0)\n",
        "#       SubFig1：SO2 Mean Box Plot\n",
        "plt.subplot(311)\n",
        "ax1 = sns.boxplot(x = \"State\", y = \"SO2 Mean\", data = pollution, palette = \"Blues_d\")\n",
        "ax1.tick_params(axis = 'x',labelsize = 16) \n",
        "ax1.tick_params(axis = 'y',labelsize = 16)\n",
        "plt.xlabel('')\n",
        "plt.ylabel('')\n",
        "plt.title('SO2 Mean', fontsize = 20)\n",
        "plt.setp(ax1.get_xticklabels(), visible=False)\n",
        "#       SubFig2：SO2 1st Max Value Box Plot\n",
        "plt.subplot(312)\n",
        "ax2 = sns.boxplot(x = \"State\", y = \"SO2 1st Max Value\", data = pollution, palette = \"Blues_d\")\n",
        "ax2.tick_params(axis = 'x',labelsize = 16) \n",
        "ax2.tick_params(axis = 'y',labelsize = 16)\n",
        "plt.xlabel('')\n",
        "plt.ylabel('')\n",
        "plt.title('SO2 1st Max Value', fontsize = 20)\n",
        "plt.setp(ax2.get_xticklabels(), visible=False)\n",
        "#       SubFig3：SO2 1st Max Hour Box Plot\n",
        "plt.subplot(313)\n",
        "ax3 = sns.boxplot(x = \"State\", y = \"SO2 1st Max Hour\", data = pollution, palette = \"Blues_d\")\n",
        "ax3.tick_params(axis = 'x',labelsize = 16) \n",
        "ax3.tick_params(axis = 'y',labelsize = 16)\n",
        "ax3.set_xticklabels(ax3.get_xticklabels(), rotation=-90)\n",
        "plt.xlabel('States', fontsize = 20)\n",
        "plt.ylabel('')\n",
        "plt.title('SO2 1st Max Hour', fontsize = 20)\n",
        "plt.tight_layout()"
      ],
      "execution_count": 0,
      "outputs": []
    },
    {
      "cell_type": "code",
      "metadata": {
        "id": "fRCFHmnAg1Ym",
        "colab_type": "code",
        "colab": {}
      },
      "source": [
        "#   5）Fig5：Pollution situation of CO in each state\n",
        "plt.rcParams['figure.figsize'] = (12.0, 10.0)\n",
        "#       SubFig1：CO Mean Box Plot\n",
        "plt.subplot(311)\n",
        "ax1 = sns.boxplot(x = \"State\", y = \"CO Mean\", data = pollution, palette = \"Blues_d\")\n",
        "ax1.tick_params(axis = 'x',labelsize = 16) \n",
        "ax1.tick_params(axis = 'y',labelsize = 16)\n",
        "plt.xlabel('')\n",
        "plt.ylabel('')\n",
        "plt.title('CO Mean', fontsize = 20)\n",
        "plt.setp(ax1.get_xticklabels(), visible=False)\n",
        "#       SubFig2：CO 1st Max Value Box Plot\n",
        "plt.subplot(312)\n",
        "ax2 = sns.boxplot(x = \"State\", y = \"CO 1st Max Value\", data = pollution, palette = \"Blues_d\")\n",
        "ax2.tick_params(axis = 'x',labelsize = 16) \n",
        "ax2.tick_params(axis = 'y',labelsize = 16)\n",
        "plt.xlabel('')\n",
        "plt.ylabel('')\n",
        "plt.title('CO 1st Max Value', fontsize = 20)\n",
        "plt.setp(ax2.get_xticklabels(), visible=False)\n",
        "#       SubFig3：CO 1st Max Hour BoxPlot\n",
        "plt.subplot(313)\n",
        "ax3 = sns.boxplot(x = \"State\", y = \"CO 1st Max Hour\", data = pollution, palette = \"Blues_d\")\n",
        "ax3.tick_params(axis = 'x',labelsize = 16) \n",
        "ax3.tick_params(axis = 'y',labelsize = 16)\n",
        "ax3.set_xticklabels(ax3.get_xticklabels(), rotation=-90)\n",
        "plt.xlabel('States', fontsize = 20)\n",
        "plt.ylabel('')\n",
        "plt.title('CO 1st Max Hour', fontsize = 20)\n",
        "plt.tight_layout()"
      ],
      "execution_count": 0,
      "outputs": []
    },
    {
      "cell_type": "code",
      "metadata": {
        "id": "1Mt-YXLtg3M_",
        "colab_type": "code",
        "colab": {}
      },
      "source": [
        "#   6）Fig6：Thermodynamic chart of correlation among pollution indicators\n",
        "gas = pollution.iloc[:,np.arange(4,16)]\n",
        "gascorr = gas.corr()\n",
        "ax = sns.heatmap(gascorr, annot = True, vmax = 1, square = True, cmap = \"Blues\")\n",
        "ax.tick_params(axis = 'x',labelsize = 13) \n",
        "ax.tick_params(axis = 'y',labelsize = 13)\n",
        "plt.title('Thermodynamic chart of correlation among pollution indicators', fontsize = 15)\n",
        "plt.tight_layout()"
      ],
      "execution_count": 0,
      "outputs": []
    },
    {
      "cell_type": "code",
      "metadata": {
        "id": "fe21kjBjg4hv",
        "colab_type": "code",
        "colab": {}
      },
      "source": [
        "# 2 Time Series\n",
        "#   1）Preprocessing Data\n",
        "phoenix = pollution.loc[pollution['City'] == 'Phoenix'].copy()\n",
        "x=[0,1,5,6,8,9,11,12,14,15]\n",
        "# phoenix.columns.values.tolist()\n",
        "phoenix.drop(phoenix.columns[x],axis=1,inplace=True)\n",
        "phoenix['Date Local'] = pd.to_datetime(phoenix['Date Local'])\n",
        "phoenix = phoenix.groupby('Date Local')['NO2 Mean','O3 Mean','SO2 Mean','CO Mean'].mean()\n",
        "\n"
      ],
      "execution_count": 0,
      "outputs": []
    },
    {
      "cell_type": "code",
      "metadata": {
        "id": "geD5AIyVg8IN",
        "colab_type": "code",
        "colab": {}
      },
      "source": [
        "#   2）Time Series Chart\n",
        "plt.rcParams['figure.figsize'] = (15.0, 12.0)\n",
        "#       SubFig1：NO2 Mean\n",
        "plt.subplot(411)\n",
        "ax1 = phoenix['NO2 Mean'].plot()\n",
        "ax1.axes.get_xaxis().set_visible(False)\n",
        "ax1.tick_params(axis = 'y',labelsize = 12)\n",
        "plt.title('NO2 Mean', fontsize = 14)\n",
        "plt.xlabel('')"
      ],
      "execution_count": 0,
      "outputs": []
    },
    {
      "cell_type": "code",
      "metadata": {
        "id": "sfpy85x_g-vZ",
        "colab_type": "code",
        "colab": {}
      },
      "source": [
        "#       SubFig2：O3 Mean\n",
        "plt.subplot(412)\n",
        "ax2 = phoenix['O3 Mean'].plot(color = 'salmon')\n",
        "ax2.axes.get_xaxis().set_visible(False)\n",
        "ax2.tick_params(axis = 'y',labelsize = 12)\n",
        "plt.title('O3 Mean', fontsize = 14)\n",
        "\n",
        "plt.xlabel('')"
      ],
      "execution_count": 0,
      "outputs": []
    },
    {
      "cell_type": "code",
      "metadata": {
        "id": "36bsI3rDg_8C",
        "colab_type": "code",
        "colab": {}
      },
      "source": [
        "#       SubFig3：SO2 Mean\n",
        "plt.subplot(413)\n",
        "ax3 = phoenix['SO2 Mean'].plot(color = 'plum')\n",
        "ax3.axes.get_xaxis().set_visible(False)\n",
        "ax3.tick_params(axis = 'y',labelsize = 12)\n",
        "plt.title('SO2 Mean', fontsize = 14)\n",
        "plt.xlabel('')"
      ],
      "execution_count": 0,
      "outputs": []
    },
    {
      "cell_type": "code",
      "metadata": {
        "id": "Z0DY_JP1hBPI",
        "colab_type": "code",
        "colab": {}
      },
      "source": [
        "#       SubFig4：CO Mean\n",
        "plt.subplot(414)\n",
        "ax4 = phoenix['CO Mean'].plot(color = 'sandybrown')\n",
        "plt.xlabel('Time Series',fontsize = 20)\n",
        "plt.title('CO Mean', fontsize = 14)\n",
        "ax4.tick_params(axis = 'x',labelsize = 12) \n",
        "ax4.tick_params(axis = 'y',labelsize = 12)"
      ],
      "execution_count": 0,
      "outputs": []
    },
    {
      "cell_type": "code",
      "metadata": {
        "id": "WMooEDHYhDGa",
        "colab_type": "code",
        "colab": {}
      },
      "source": [
        "# 3）Picking CO data，build the model\n",
        "co=phoenix['CO Mean']\n",
        "co=co.resample('M').mean()\n",
        "co=co.fillna(co.mean())\n",
        "plt.rcParams['figure.figsize'] = (15.0, 8.0)\n",
        "co.plot()\n",
        "plt.xlabel('Time Series',fontsize = 20)\n",
        "plt.title('Monthly average CO emissions in Phoenix ', fontsize = 15)\n",
        "\n"
      ],
      "execution_count": 0,
      "outputs": []
    },
    {
      "cell_type": "code",
      "metadata": {
        "id": "WzQBb79ghEk4",
        "colab_type": "code",
        "colab": {}
      },
      "source": [
        "# First-order difference\n",
        "import statsmodels.api as sm\n",
        "from statsmodels.graphics.api import qqplot\n",
        "co_d1 = co.diff(1)\n",
        "co_d1.plot()\n",
        "plt.xlabel('Time Series',fontsize = 20)\n",
        "plt.title('First-order Difference', fontsize = 20)"
      ],
      "execution_count": 0,
      "outputs": []
    },
    {
      "cell_type": "code",
      "metadata": {
        "id": "fXkrLPyzhHVP",
        "colab_type": "code",
        "colab": {}
      },
      "source": [
        "# ADF test\n",
        "co_d1.dropna(inplace=True) \n",
        "\n",
        "# Autocorrelation coefficient and partial autocorrelation coefficient \n",
        "fig = plt.figure(figsize=(10,8))\n",
        "ax1=fig.add_subplot(211)\n",
        "fig = sm.graphics.tsa.plot_acf(co_d1,lags=40,ax=ax1)\n",
        "ax2 = fig.add_subplot(212)\n",
        "fig = sm.graphics.tsa.plot_pacf(co_d1,lags=40,ax=ax2)"
      ],
      "execution_count": 0,
      "outputs": []
    },
    {
      "cell_type": "code",
      "metadata": {
        "id": "-y6RJ2t1hI5L",
        "colab_type": "code",
        "colab": {}
      },
      "source": [
        "# Time series estimation \n",
        "arma_mod20 = sm.tsa.ARMA(co_d1,(8,0)).fit()\n",
        "print(arma_mod20.aic,arma_mod20.bic,arma_mod20.hqic)\n",
        "predict_data = arma_mod20.predict(start=str(2016), end=str(2017), dynamic = False)\n",
        "\n",
        "predict_data=pd.Series((predict_data).cumsum())+co['2015-12-31']"
      ],
      "execution_count": 0,
      "outputs": []
    },
    {
      "cell_type": "code",
      "metadata": {
        "id": "FKxM0yH2hKRh",
        "colab_type": "code",
        "colab": {}
      },
      "source": [
        "# Graph\n",
        "co.plot()\n",
        "predict_data.plot()\n",
        "plt.xlabel('Time Series',fontsize = 20)\n",
        "plt.title('Current Monthly average CO emissions and Prediction', fontsize = 15)"
      ],
      "execution_count": 0,
      "outputs": []
    },
    {
      "cell_type": "code",
      "metadata": {
        "id": "tYgmVgCUhLbV",
        "colab_type": "code",
        "colab": {}
      },
      "source": [
        "#Test the accuracy of the prediction \n",
        "arma_mod20 = sm.tsa.ARMA(co_d1,(8,0)).fit()\n",
        "print(arma_mod20.aic,arma_mod20.bic,arma_mod20.hqic)\n",
        "predict_data = arma_mod20.predict(start=str(2014), end=str(2016), dynamic = False)\n",
        "predict_data=pd.Series((predict_data).cumsum())+co['2015-12-31']"
      ],
      "execution_count": 0,
      "outputs": []
    },
    {
      "cell_type": "code",
      "metadata": {
        "id": "bpz0t6eShMqZ",
        "colab_type": "code",
        "colab": {}
      },
      "source": [
        "# Graph\n",
        "co.plot()\n",
        "predict_data.plot()\n",
        "plt.xlabel('Time Series',fontsize = 20)\n",
        "plt.title('Monthly average CO Prediction', fontsize = 15)\n",
        "\n"
      ],
      "execution_count": 0,
      "outputs": []
    },
    {
      "cell_type": "code",
      "metadata": {
        "id": "hbfXPX66hOPv",
        "colab_type": "code",
        "colab": {}
      },
      "source": [
        "# Q-Q plot Test\n",
        "resid = arma_mod20.resid\n",
        "fig = plt.figure(figsize=(8,6))\n",
        "ax = fig.add_subplot(111)\n",
        "fig = qqplot(resid, line='q', ax=ax, fit=True)"
      ],
      "execution_count": 0,
      "outputs": []
    },
    {
      "cell_type": "code",
      "metadata": {
        "id": "tPB8mpdOhPLq",
        "colab_type": "code",
        "colab": {}
      },
      "source": [
        "# DW Test\n",
        "print(sm.stats.durbin_watson(arma_mod20.resid.values))"
      ],
      "execution_count": 0,
      "outputs": []
    }
  ]
}